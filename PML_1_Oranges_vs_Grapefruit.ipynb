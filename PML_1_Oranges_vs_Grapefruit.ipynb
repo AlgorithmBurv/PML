{
  "nbformat": 4,
  "nbformat_minor": 0,
  "metadata": {
    "colab": {
      "provenance": [],
      "authorship_tag": "ABX9TyN4hu7KEMF2heKS6FZKemdr",
      "include_colab_link": true
    },
    "kernelspec": {
      "name": "python3",
      "display_name": "Python 3"
    },
    "language_info": {
      "name": "python"
    }
  },
  "cells": [
    {
      "cell_type": "markdown",
      "metadata": {
        "id": "view-in-github",
        "colab_type": "text"
      },
      "source": [
        "<a href=\"https://colab.research.google.com/github/AlgorithmBurv/PML/blob/main/PML_1_Oranges_vs_Grapefruit.ipynb\" target=\"_parent\"><img src=\"https://colab.research.google.com/assets/colab-badge.svg\" alt=\"Open In Colab\"/></a>"
      ]
    },
    {
      "cell_type": "code",
      "execution_count": 23,
      "metadata": {
        "id": "bb_WKe6WtMaY"
      },
      "outputs": [],
      "source": [
        "import pandas as pd\n"
      ]
    },
    {
      "cell_type": "code",
      "source": [
        "from google.colab import drive\n",
        "drive.mount('/content/drive/')"
      ],
      "metadata": {
        "colab": {
          "base_uri": "https://localhost:8080/"
        },
        "id": "QH0A_7j5vnzn",
        "outputId": "b90797c0-be7d-40ab-9bfc-088b0f5d11e1"
      },
      "execution_count": 24,
      "outputs": [
        {
          "output_type": "stream",
          "name": "stdout",
          "text": [
            "Drive already mounted at /content/drive/; to attempt to forcibly remount, call drive.mount(\"/content/drive/\", force_remount=True).\n"
          ]
        }
      ]
    },
    {
      "cell_type": "code",
      "source": [
        "\n",
        "path = \"/content/citrus.csv\"\n",
        "load_data = pd.read_csv(path)"
      ],
      "metadata": {
        "id": "wW3GXUYsv8Ll"
      },
      "execution_count": 25,
      "outputs": []
    },
    {
      "cell_type": "code",
      "source": [
        "df = pd.read_csv('citrus.csv')"
      ],
      "metadata": {
        "id": "ZWKvmdrTv-fv"
      },
      "execution_count": 26,
      "outputs": []
    },
    {
      "cell_type": "code",
      "source": [
        "df.info()"
      ],
      "metadata": {
        "colab": {
          "base_uri": "https://localhost:8080/"
        },
        "id": "jucpIBTtth0y",
        "outputId": "b95b54d4-e97e-4e69-821a-08cf7ccdf8ca"
      },
      "execution_count": 27,
      "outputs": [
        {
          "output_type": "stream",
          "name": "stdout",
          "text": [
            "<class 'pandas.core.frame.DataFrame'>\n",
            "RangeIndex: 10000 entries, 0 to 9999\n",
            "Data columns (total 6 columns):\n",
            " #   Column    Non-Null Count  Dtype  \n",
            "---  ------    --------------  -----  \n",
            " 0   name      10000 non-null  object \n",
            " 1   diameter  10000 non-null  float64\n",
            " 2   weight    10000 non-null  float64\n",
            " 3   red       10000 non-null  int64  \n",
            " 4   green     10000 non-null  int64  \n",
            " 5   blue      10000 non-null  int64  \n",
            "dtypes: float64(2), int64(3), object(1)\n",
            "memory usage: 468.9+ KB\n"
          ]
        }
      ]
    },
    {
      "cell_type": "code",
      "source": [
        "df.head()"
      ],
      "metadata": {
        "colab": {
          "base_uri": "https://localhost:8080/",
          "height": 206
        },
        "id": "M9XV0zr6tlNW",
        "outputId": "07c7fde1-fbf9-4ce3-dd11-9a72d77753b5"
      },
      "execution_count": 28,
      "outputs": [
        {
          "output_type": "execute_result",
          "data": {
            "text/plain": [
              "     name  diameter  weight  red  green  blue\n",
              "0  orange      2.96   86.76  172     85     2\n",
              "1  orange      3.91   88.05  166     78     3\n",
              "2  orange      4.42   95.17  156     81     2\n",
              "3  orange      4.47   95.60  163     81     4\n",
              "4  orange      4.48   95.76  161     72     9"
            ],
            "text/html": [
              "\n",
              "  <div id=\"df-4522eb70-db7f-4a75-9f93-4a684716aba0\" class=\"colab-df-container\">\n",
              "    <div>\n",
              "<style scoped>\n",
              "    .dataframe tbody tr th:only-of-type {\n",
              "        vertical-align: middle;\n",
              "    }\n",
              "\n",
              "    .dataframe tbody tr th {\n",
              "        vertical-align: top;\n",
              "    }\n",
              "\n",
              "    .dataframe thead th {\n",
              "        text-align: right;\n",
              "    }\n",
              "</style>\n",
              "<table border=\"1\" class=\"dataframe\">\n",
              "  <thead>\n",
              "    <tr style=\"text-align: right;\">\n",
              "      <th></th>\n",
              "      <th>name</th>\n",
              "      <th>diameter</th>\n",
              "      <th>weight</th>\n",
              "      <th>red</th>\n",
              "      <th>green</th>\n",
              "      <th>blue</th>\n",
              "    </tr>\n",
              "  </thead>\n",
              "  <tbody>\n",
              "    <tr>\n",
              "      <th>0</th>\n",
              "      <td>orange</td>\n",
              "      <td>2.96</td>\n",
              "      <td>86.76</td>\n",
              "      <td>172</td>\n",
              "      <td>85</td>\n",
              "      <td>2</td>\n",
              "    </tr>\n",
              "    <tr>\n",
              "      <th>1</th>\n",
              "      <td>orange</td>\n",
              "      <td>3.91</td>\n",
              "      <td>88.05</td>\n",
              "      <td>166</td>\n",
              "      <td>78</td>\n",
              "      <td>3</td>\n",
              "    </tr>\n",
              "    <tr>\n",
              "      <th>2</th>\n",
              "      <td>orange</td>\n",
              "      <td>4.42</td>\n",
              "      <td>95.17</td>\n",
              "      <td>156</td>\n",
              "      <td>81</td>\n",
              "      <td>2</td>\n",
              "    </tr>\n",
              "    <tr>\n",
              "      <th>3</th>\n",
              "      <td>orange</td>\n",
              "      <td>4.47</td>\n",
              "      <td>95.60</td>\n",
              "      <td>163</td>\n",
              "      <td>81</td>\n",
              "      <td>4</td>\n",
              "    </tr>\n",
              "    <tr>\n",
              "      <th>4</th>\n",
              "      <td>orange</td>\n",
              "      <td>4.48</td>\n",
              "      <td>95.76</td>\n",
              "      <td>161</td>\n",
              "      <td>72</td>\n",
              "      <td>9</td>\n",
              "    </tr>\n",
              "  </tbody>\n",
              "</table>\n",
              "</div>\n",
              "    <div class=\"colab-df-buttons\">\n",
              "\n",
              "  <div class=\"colab-df-container\">\n",
              "    <button class=\"colab-df-convert\" onclick=\"convertToInteractive('df-4522eb70-db7f-4a75-9f93-4a684716aba0')\"\n",
              "            title=\"Convert this dataframe to an interactive table.\"\n",
              "            style=\"display:none;\">\n",
              "\n",
              "  <svg xmlns=\"http://www.w3.org/2000/svg\" height=\"24px\" viewBox=\"0 -960 960 960\">\n",
              "    <path d=\"M120-120v-720h720v720H120Zm60-500h600v-160H180v160Zm220 220h160v-160H400v160Zm0 220h160v-160H400v160ZM180-400h160v-160H180v160Zm440 0h160v-160H620v160ZM180-180h160v-160H180v160Zm440 0h160v-160H620v160Z\"/>\n",
              "  </svg>\n",
              "    </button>\n",
              "\n",
              "  <style>\n",
              "    .colab-df-container {\n",
              "      display:flex;\n",
              "      gap: 12px;\n",
              "    }\n",
              "\n",
              "    .colab-df-convert {\n",
              "      background-color: #E8F0FE;\n",
              "      border: none;\n",
              "      border-radius: 50%;\n",
              "      cursor: pointer;\n",
              "      display: none;\n",
              "      fill: #1967D2;\n",
              "      height: 32px;\n",
              "      padding: 0 0 0 0;\n",
              "      width: 32px;\n",
              "    }\n",
              "\n",
              "    .colab-df-convert:hover {\n",
              "      background-color: #E2EBFA;\n",
              "      box-shadow: 0px 1px 2px rgba(60, 64, 67, 0.3), 0px 1px 3px 1px rgba(60, 64, 67, 0.15);\n",
              "      fill: #174EA6;\n",
              "    }\n",
              "\n",
              "    .colab-df-buttons div {\n",
              "      margin-bottom: 4px;\n",
              "    }\n",
              "\n",
              "    [theme=dark] .colab-df-convert {\n",
              "      background-color: #3B4455;\n",
              "      fill: #D2E3FC;\n",
              "    }\n",
              "\n",
              "    [theme=dark] .colab-df-convert:hover {\n",
              "      background-color: #434B5C;\n",
              "      box-shadow: 0px 1px 3px 1px rgba(0, 0, 0, 0.15);\n",
              "      filter: drop-shadow(0px 1px 2px rgba(0, 0, 0, 0.3));\n",
              "      fill: #FFFFFF;\n",
              "    }\n",
              "  </style>\n",
              "\n",
              "    <script>\n",
              "      const buttonEl =\n",
              "        document.querySelector('#df-4522eb70-db7f-4a75-9f93-4a684716aba0 button.colab-df-convert');\n",
              "      buttonEl.style.display =\n",
              "        google.colab.kernel.accessAllowed ? 'block' : 'none';\n",
              "\n",
              "      async function convertToInteractive(key) {\n",
              "        const element = document.querySelector('#df-4522eb70-db7f-4a75-9f93-4a684716aba0');\n",
              "        const dataTable =\n",
              "          await google.colab.kernel.invokeFunction('convertToInteractive',\n",
              "                                                    [key], {});\n",
              "        if (!dataTable) return;\n",
              "\n",
              "        const docLinkHtml = 'Like what you see? Visit the ' +\n",
              "          '<a target=\"_blank\" href=https://colab.research.google.com/notebooks/data_table.ipynb>data table notebook</a>'\n",
              "          + ' to learn more about interactive tables.';\n",
              "        element.innerHTML = '';\n",
              "        dataTable['output_type'] = 'display_data';\n",
              "        await google.colab.output.renderOutput(dataTable, element);\n",
              "        const docLink = document.createElement('div');\n",
              "        docLink.innerHTML = docLinkHtml;\n",
              "        element.appendChild(docLink);\n",
              "      }\n",
              "    </script>\n",
              "  </div>\n",
              "\n",
              "\n",
              "<div id=\"df-d9de13a8-6b58-426f-aa91-8af3a5700305\">\n",
              "  <button class=\"colab-df-quickchart\" onclick=\"quickchart('df-d9de13a8-6b58-426f-aa91-8af3a5700305')\"\n",
              "            title=\"Suggest charts\"\n",
              "            style=\"display:none;\">\n",
              "\n",
              "<svg xmlns=\"http://www.w3.org/2000/svg\" height=\"24px\"viewBox=\"0 0 24 24\"\n",
              "     width=\"24px\">\n",
              "    <g>\n",
              "        <path d=\"M19 3H5c-1.1 0-2 .9-2 2v14c0 1.1.9 2 2 2h14c1.1 0 2-.9 2-2V5c0-1.1-.9-2-2-2zM9 17H7v-7h2v7zm4 0h-2V7h2v10zm4 0h-2v-4h2v4z\"/>\n",
              "    </g>\n",
              "</svg>\n",
              "  </button>\n",
              "\n",
              "<style>\n",
              "  .colab-df-quickchart {\n",
              "      --bg-color: #E8F0FE;\n",
              "      --fill-color: #1967D2;\n",
              "      --hover-bg-color: #E2EBFA;\n",
              "      --hover-fill-color: #174EA6;\n",
              "      --disabled-fill-color: #AAA;\n",
              "      --disabled-bg-color: #DDD;\n",
              "  }\n",
              "\n",
              "  [theme=dark] .colab-df-quickchart {\n",
              "      --bg-color: #3B4455;\n",
              "      --fill-color: #D2E3FC;\n",
              "      --hover-bg-color: #434B5C;\n",
              "      --hover-fill-color: #FFFFFF;\n",
              "      --disabled-bg-color: #3B4455;\n",
              "      --disabled-fill-color: #666;\n",
              "  }\n",
              "\n",
              "  .colab-df-quickchart {\n",
              "    background-color: var(--bg-color);\n",
              "    border: none;\n",
              "    border-radius: 50%;\n",
              "    cursor: pointer;\n",
              "    display: none;\n",
              "    fill: var(--fill-color);\n",
              "    height: 32px;\n",
              "    padding: 0;\n",
              "    width: 32px;\n",
              "  }\n",
              "\n",
              "  .colab-df-quickchart:hover {\n",
              "    background-color: var(--hover-bg-color);\n",
              "    box-shadow: 0 1px 2px rgba(60, 64, 67, 0.3), 0 1px 3px 1px rgba(60, 64, 67, 0.15);\n",
              "    fill: var(--button-hover-fill-color);\n",
              "  }\n",
              "\n",
              "  .colab-df-quickchart-complete:disabled,\n",
              "  .colab-df-quickchart-complete:disabled:hover {\n",
              "    background-color: var(--disabled-bg-color);\n",
              "    fill: var(--disabled-fill-color);\n",
              "    box-shadow: none;\n",
              "  }\n",
              "\n",
              "  .colab-df-spinner {\n",
              "    border: 2px solid var(--fill-color);\n",
              "    border-color: transparent;\n",
              "    border-bottom-color: var(--fill-color);\n",
              "    animation:\n",
              "      spin 1s steps(1) infinite;\n",
              "  }\n",
              "\n",
              "  @keyframes spin {\n",
              "    0% {\n",
              "      border-color: transparent;\n",
              "      border-bottom-color: var(--fill-color);\n",
              "      border-left-color: var(--fill-color);\n",
              "    }\n",
              "    20% {\n",
              "      border-color: transparent;\n",
              "      border-left-color: var(--fill-color);\n",
              "      border-top-color: var(--fill-color);\n",
              "    }\n",
              "    30% {\n",
              "      border-color: transparent;\n",
              "      border-left-color: var(--fill-color);\n",
              "      border-top-color: var(--fill-color);\n",
              "      border-right-color: var(--fill-color);\n",
              "    }\n",
              "    40% {\n",
              "      border-color: transparent;\n",
              "      border-right-color: var(--fill-color);\n",
              "      border-top-color: var(--fill-color);\n",
              "    }\n",
              "    60% {\n",
              "      border-color: transparent;\n",
              "      border-right-color: var(--fill-color);\n",
              "    }\n",
              "    80% {\n",
              "      border-color: transparent;\n",
              "      border-right-color: var(--fill-color);\n",
              "      border-bottom-color: var(--fill-color);\n",
              "    }\n",
              "    90% {\n",
              "      border-color: transparent;\n",
              "      border-bottom-color: var(--fill-color);\n",
              "    }\n",
              "  }\n",
              "</style>\n",
              "\n",
              "  <script>\n",
              "    async function quickchart(key) {\n",
              "      const quickchartButtonEl =\n",
              "        document.querySelector('#' + key + ' button');\n",
              "      quickchartButtonEl.disabled = true;  // To prevent multiple clicks.\n",
              "      quickchartButtonEl.classList.add('colab-df-spinner');\n",
              "      try {\n",
              "        const charts = await google.colab.kernel.invokeFunction(\n",
              "            'suggestCharts', [key], {});\n",
              "      } catch (error) {\n",
              "        console.error('Error during call to suggestCharts:', error);\n",
              "      }\n",
              "      quickchartButtonEl.classList.remove('colab-df-spinner');\n",
              "      quickchartButtonEl.classList.add('colab-df-quickchart-complete');\n",
              "    }\n",
              "    (() => {\n",
              "      let quickchartButtonEl =\n",
              "        document.querySelector('#df-d9de13a8-6b58-426f-aa91-8af3a5700305 button');\n",
              "      quickchartButtonEl.style.display =\n",
              "        google.colab.kernel.accessAllowed ? 'block' : 'none';\n",
              "    })();\n",
              "  </script>\n",
              "</div>\n",
              "    </div>\n",
              "  </div>\n"
            ]
          },
          "metadata": {},
          "execution_count": 28
        }
      ]
    },
    {
      "cell_type": "markdown",
      "source": [
        "### Mengubah string ke integer"
      ],
      "metadata": {
        "id": "WdxH-7VfttVR"
      }
    },
    {
      "cell_type": "code",
      "source": [
        "df.name[df.name == 'orange'] = 0\n",
        "df.name[df.name == 'grapefruit'] = 1"
      ],
      "metadata": {
        "colab": {
          "base_uri": "https://localhost:8080/"
        },
        "id": "RTGpfwTLtp6i",
        "outputId": "bb6eb26c-9161-497f-e8fc-7c008b1cac46"
      },
      "execution_count": 29,
      "outputs": [
        {
          "output_type": "stream",
          "name": "stderr",
          "text": [
            "<ipython-input-29-e9c3e7476411>:1: SettingWithCopyWarning: \n",
            "A value is trying to be set on a copy of a slice from a DataFrame\n",
            "\n",
            "See the caveats in the documentation: https://pandas.pydata.org/pandas-docs/stable/user_guide/indexing.html#returning-a-view-versus-a-copy\n",
            "  df.name[df.name == 'orange'] = 0\n",
            "<ipython-input-29-e9c3e7476411>:2: SettingWithCopyWarning: \n",
            "A value is trying to be set on a copy of a slice from a DataFrame\n",
            "\n",
            "See the caveats in the documentation: https://pandas.pydata.org/pandas-docs/stable/user_guide/indexing.html#returning-a-view-versus-a-copy\n",
            "  df.name[df.name == 'grapefruit'] = 1\n"
          ]
        }
      ]
    },
    {
      "cell_type": "markdown",
      "source": [
        "### Mengubah dataframe ke numpy array"
      ],
      "metadata": {
        "id": "-n73pvl_t3Pl"
      }
    },
    {
      "cell_type": "code",
      "source": [
        "dataset = df.values"
      ],
      "metadata": {
        "id": "QBp68NPxt17s"
      },
      "execution_count": 30,
      "outputs": []
    },
    {
      "cell_type": "code",
      "source": [
        "# pilih 5 kolom terakhir sebagai atribut\n",
        "X = dataset[:,1:6]\n",
        "# bilangan sebelum koma untuk memilih baris pada dataframe\n",
        "# bilangan setelah koma untuk memilih kolom pada dataframe"
      ],
      "metadata": {
        "id": "3f0X2BHat-Nq"
      },
      "execution_count": 31,
      "outputs": []
    },
    {
      "cell_type": "code",
      "source": [
        "y = dataset[:,0]"
      ],
      "metadata": {
        "id": "sYhG56j-t_-y"
      },
      "execution_count": 32,
      "outputs": []
    },
    {
      "cell_type": "code",
      "source": [
        "# Normalization\n",
        "from sklearn import preprocessing\n",
        "min_max_scaler = preprocessing.MinMaxScaler()\n",
        "X_scale = min_max_scaler.fit_transform(X)\n",
        "X_scale"
      ],
      "metadata": {
        "colab": {
          "base_uri": "https://localhost:8080/"
        },
        "id": "_dOTE9OhuCJi",
        "outputId": "20e89053-ad06-48e8-92a1-2606254b9fde"
      },
      "execution_count": 33,
      "outputs": [
        {
          "output_type": "execute_result",
          "data": {
            "text/plain": [
              "array([[0.        , 0.        , 0.74025974, 0.63529412, 0.        ],\n",
              "       [0.07042254, 0.00738197, 0.66233766, 0.55294118, 0.01851852],\n",
              "       [0.10822832, 0.04812589, 0.53246753, 0.58823529, 0.        ],\n",
              "       ...,\n",
              "       [0.93624907, 0.97133047, 0.68831169, 0.6       , 0.33333333],\n",
              "       [0.96071164, 0.99216023, 0.35064935, 0.48235294, 0.16666667],\n",
              "       [1.        , 1.        , 0.48051948, 0.50588235, 0.        ]])"
            ]
          },
          "metadata": {},
          "execution_count": 33
        }
      ]
    },
    {
      "cell_type": "code",
      "source": [
        "# pisahkan data training dan testing\n",
        "from sklearn.model_selection import train_test_split\n",
        "X_train, X_test, Y_train, Y_test = train_test_split(X_scale, y, test_size=0.3)"
      ],
      "metadata": {
        "id": "sMyF0XUfuDo2"
      },
      "execution_count": 34,
      "outputs": []
    },
    {
      "cell_type": "markdown",
      "source": [
        "### mengubah ke float"
      ],
      "metadata": {
        "id": "lAWWtjwHuIAA"
      }
    },
    {
      "cell_type": "code",
      "source": [
        "import numpy as np\n",
        "\n",
        "Y_train = Y_train.astype(np.float32)\n",
        "Y_test = Y_test.astype(np.float32)"
      ],
      "metadata": {
        "id": "70mAM83ZuGwo"
      },
      "execution_count": 35,
      "outputs": []
    },
    {
      "cell_type": "code",
      "source": [
        "from keras.models import Sequential\n",
        "from keras.layers import Dense"
      ],
      "metadata": {
        "id": "fbk0LUzHuOrC"
      },
      "execution_count": 36,
      "outputs": []
    },
    {
      "cell_type": "code",
      "source": [
        "model = Sequential([\n",
        "                    Dense(32, activation='relu', input_shape=(5,)),\n",
        "                    Dense(32, activation='relu'),\n",
        "                    Dense(1, activation='sigmoid'),])"
      ],
      "metadata": {
        "id": "tP3oZCP5uR6Q"
      },
      "execution_count": 37,
      "outputs": []
    },
    {
      "cell_type": "code",
      "source": [
        "model.compile(optimizer='sgd',\n",
        "              loss='binary_crossentropy',\n",
        "              metrics=['accuracy'])"
      ],
      "metadata": {
        "id": "18f3jGTUuUZf"
      },
      "execution_count": 38,
      "outputs": []
    },
    {
      "cell_type": "code",
      "source": [
        "model.fit(X_train, Y_train, epochs=100)"
      ],
      "metadata": {
        "colab": {
          "base_uri": "https://localhost:8080/"
        },
        "id": "GORdwzOPuWfl",
        "outputId": "63f442d8-1c8c-4e53-e240-b6317e3dc1e3"
      },
      "execution_count": 39,
      "outputs": [
        {
          "output_type": "stream",
          "name": "stdout",
          "text": [
            "Epoch 1/100\n",
            "219/219 [==============================] - 1s 2ms/step - loss: 0.6527 - accuracy: 0.7564\n",
            "Epoch 2/100\n",
            "219/219 [==============================] - 0s 2ms/step - loss: 0.5743 - accuracy: 0.8951\n",
            "Epoch 3/100\n",
            "219/219 [==============================] - 0s 1ms/step - loss: 0.4764 - accuracy: 0.9133\n",
            "Epoch 4/100\n",
            "219/219 [==============================] - 0s 1ms/step - loss: 0.3829 - accuracy: 0.9169\n",
            "Epoch 5/100\n",
            "219/219 [==============================] - 0s 2ms/step - loss: 0.3086 - accuracy: 0.9189\n",
            "Epoch 6/100\n",
            "219/219 [==============================] - 0s 1ms/step - loss: 0.2602 - accuracy: 0.9209\n",
            "Epoch 7/100\n",
            "219/219 [==============================] - 0s 1ms/step - loss: 0.2309 - accuracy: 0.9221\n",
            "Epoch 8/100\n",
            "219/219 [==============================] - 0s 1ms/step - loss: 0.2141 - accuracy: 0.9219\n",
            "Epoch 9/100\n",
            "219/219 [==============================] - 0s 1ms/step - loss: 0.2034 - accuracy: 0.9216\n",
            "Epoch 10/100\n",
            "219/219 [==============================] - 0s 1ms/step - loss: 0.1971 - accuracy: 0.9236\n",
            "Epoch 11/100\n",
            "219/219 [==============================] - 0s 1ms/step - loss: 0.1925 - accuracy: 0.9244\n",
            "Epoch 12/100\n",
            "219/219 [==============================] - 0s 1ms/step - loss: 0.1899 - accuracy: 0.9221\n",
            "Epoch 13/100\n",
            "219/219 [==============================] - 0s 2ms/step - loss: 0.1873 - accuracy: 0.9227\n",
            "Epoch 14/100\n",
            "219/219 [==============================] - 0s 1ms/step - loss: 0.1863 - accuracy: 0.9230\n",
            "Epoch 15/100\n",
            "219/219 [==============================] - 0s 1ms/step - loss: 0.1855 - accuracy: 0.9227\n",
            "Epoch 16/100\n",
            "219/219 [==============================] - 0s 1ms/step - loss: 0.1849 - accuracy: 0.9239\n",
            "Epoch 17/100\n",
            "219/219 [==============================] - 0s 1ms/step - loss: 0.1841 - accuracy: 0.9234\n",
            "Epoch 18/100\n",
            "219/219 [==============================] - 0s 2ms/step - loss: 0.1832 - accuracy: 0.9241\n",
            "Epoch 19/100\n",
            "219/219 [==============================] - 0s 1ms/step - loss: 0.1829 - accuracy: 0.9234\n",
            "Epoch 20/100\n",
            "219/219 [==============================] - 0s 2ms/step - loss: 0.1833 - accuracy: 0.9237\n",
            "Epoch 21/100\n",
            "219/219 [==============================] - 1s 3ms/step - loss: 0.1830 - accuracy: 0.9216\n",
            "Epoch 22/100\n",
            "219/219 [==============================] - 0s 1ms/step - loss: 0.1822 - accuracy: 0.9249\n",
            "Epoch 23/100\n",
            "219/219 [==============================] - 1s 3ms/step - loss: 0.1821 - accuracy: 0.9213\n",
            "Epoch 24/100\n",
            "219/219 [==============================] - 0s 1ms/step - loss: 0.1824 - accuracy: 0.9231\n",
            "Epoch 25/100\n",
            "219/219 [==============================] - 0s 1ms/step - loss: 0.1828 - accuracy: 0.9244\n",
            "Epoch 26/100\n",
            "219/219 [==============================] - 0s 1ms/step - loss: 0.1829 - accuracy: 0.9246\n",
            "Epoch 27/100\n",
            "219/219 [==============================] - 0s 2ms/step - loss: 0.1824 - accuracy: 0.9241\n",
            "Epoch 28/100\n",
            "219/219 [==============================] - 0s 2ms/step - loss: 0.1825 - accuracy: 0.9240\n",
            "Epoch 29/100\n",
            "219/219 [==============================] - 0s 1ms/step - loss: 0.1823 - accuracy: 0.9226\n",
            "Epoch 30/100\n",
            "219/219 [==============================] - 0s 2ms/step - loss: 0.1819 - accuracy: 0.9239\n",
            "Epoch 31/100\n",
            "219/219 [==============================] - 0s 2ms/step - loss: 0.1823 - accuracy: 0.9253\n",
            "Epoch 32/100\n",
            "219/219 [==============================] - 0s 2ms/step - loss: 0.1823 - accuracy: 0.9234\n",
            "Epoch 33/100\n",
            "219/219 [==============================] - 0s 2ms/step - loss: 0.1823 - accuracy: 0.9237\n",
            "Epoch 34/100\n",
            "219/219 [==============================] - 0s 2ms/step - loss: 0.1818 - accuracy: 0.9243\n",
            "Epoch 35/100\n",
            "219/219 [==============================] - 0s 2ms/step - loss: 0.1820 - accuracy: 0.9247\n",
            "Epoch 36/100\n",
            "219/219 [==============================] - 0s 2ms/step - loss: 0.1820 - accuracy: 0.9237\n",
            "Epoch 37/100\n",
            "219/219 [==============================] - 0s 2ms/step - loss: 0.1818 - accuracy: 0.9250\n",
            "Epoch 38/100\n",
            "219/219 [==============================] - 0s 2ms/step - loss: 0.1819 - accuracy: 0.9246\n",
            "Epoch 39/100\n",
            "219/219 [==============================] - 0s 2ms/step - loss: 0.1819 - accuracy: 0.9239\n",
            "Epoch 40/100\n",
            "219/219 [==============================] - 0s 2ms/step - loss: 0.1818 - accuracy: 0.9243\n",
            "Epoch 41/100\n",
            "219/219 [==============================] - 0s 2ms/step - loss: 0.1818 - accuracy: 0.9241\n",
            "Epoch 42/100\n",
            "219/219 [==============================] - 0s 1ms/step - loss: 0.1818 - accuracy: 0.9240\n",
            "Epoch 43/100\n",
            "219/219 [==============================] - 0s 1ms/step - loss: 0.1813 - accuracy: 0.9234\n",
            "Epoch 44/100\n",
            "219/219 [==============================] - 0s 2ms/step - loss: 0.1821 - accuracy: 0.9233\n",
            "Epoch 45/100\n",
            "219/219 [==============================] - 0s 2ms/step - loss: 0.1817 - accuracy: 0.9234\n",
            "Epoch 46/100\n",
            "219/219 [==============================] - 0s 1ms/step - loss: 0.1819 - accuracy: 0.9243\n",
            "Epoch 47/100\n",
            "219/219 [==============================] - 0s 2ms/step - loss: 0.1818 - accuracy: 0.9241\n",
            "Epoch 48/100\n",
            "219/219 [==============================] - 0s 1ms/step - loss: 0.1819 - accuracy: 0.9236\n",
            "Epoch 49/100\n",
            "219/219 [==============================] - 0s 1ms/step - loss: 0.1814 - accuracy: 0.9250\n",
            "Epoch 50/100\n",
            "219/219 [==============================] - 0s 2ms/step - loss: 0.1816 - accuracy: 0.9240\n",
            "Epoch 51/100\n",
            "219/219 [==============================] - 0s 1ms/step - loss: 0.1812 - accuracy: 0.9236\n",
            "Epoch 52/100\n",
            "219/219 [==============================] - 0s 1ms/step - loss: 0.1814 - accuracy: 0.9234\n",
            "Epoch 53/100\n",
            "219/219 [==============================] - 0s 2ms/step - loss: 0.1815 - accuracy: 0.9227\n",
            "Epoch 54/100\n",
            "219/219 [==============================] - 0s 1ms/step - loss: 0.1806 - accuracy: 0.9249\n",
            "Epoch 55/100\n",
            "219/219 [==============================] - 0s 1ms/step - loss: 0.1815 - accuracy: 0.9243\n",
            "Epoch 56/100\n",
            "219/219 [==============================] - 0s 2ms/step - loss: 0.1813 - accuracy: 0.9237\n",
            "Epoch 57/100\n",
            "219/219 [==============================] - 0s 1ms/step - loss: 0.1815 - accuracy: 0.9236\n",
            "Epoch 58/100\n",
            "219/219 [==============================] - 0s 1ms/step - loss: 0.1814 - accuracy: 0.9246\n",
            "Epoch 59/100\n",
            "219/219 [==============================] - 0s 2ms/step - loss: 0.1811 - accuracy: 0.9241\n",
            "Epoch 60/100\n",
            "219/219 [==============================] - 0s 1ms/step - loss: 0.1814 - accuracy: 0.9239\n",
            "Epoch 61/100\n",
            "219/219 [==============================] - 0s 1ms/step - loss: 0.1811 - accuracy: 0.9234\n",
            "Epoch 62/100\n",
            "219/219 [==============================] - 0s 2ms/step - loss: 0.1812 - accuracy: 0.9237\n",
            "Epoch 63/100\n",
            "219/219 [==============================] - 0s 1ms/step - loss: 0.1810 - accuracy: 0.9257\n",
            "Epoch 64/100\n",
            "219/219 [==============================] - 0s 2ms/step - loss: 0.1815 - accuracy: 0.9237\n",
            "Epoch 65/100\n",
            "219/219 [==============================] - 0s 2ms/step - loss: 0.1811 - accuracy: 0.9236\n",
            "Epoch 66/100\n",
            "219/219 [==============================] - 0s 2ms/step - loss: 0.1805 - accuracy: 0.9247\n",
            "Epoch 67/100\n",
            "219/219 [==============================] - 0s 1ms/step - loss: 0.1810 - accuracy: 0.9240\n",
            "Epoch 68/100\n",
            "219/219 [==============================] - 0s 2ms/step - loss: 0.1811 - accuracy: 0.9253\n",
            "Epoch 69/100\n",
            "219/219 [==============================] - 0s 1ms/step - loss: 0.1810 - accuracy: 0.9241\n",
            "Epoch 70/100\n",
            "219/219 [==============================] - 0s 1ms/step - loss: 0.1812 - accuracy: 0.9239\n",
            "Epoch 71/100\n",
            "219/219 [==============================] - 0s 2ms/step - loss: 0.1810 - accuracy: 0.9236\n",
            "Epoch 72/100\n",
            "219/219 [==============================] - 0s 2ms/step - loss: 0.1811 - accuracy: 0.9246\n",
            "Epoch 73/100\n",
            "219/219 [==============================] - 0s 2ms/step - loss: 0.1807 - accuracy: 0.9253\n",
            "Epoch 74/100\n",
            "219/219 [==============================] - 1s 3ms/step - loss: 0.1814 - accuracy: 0.9233\n",
            "Epoch 75/100\n",
            "219/219 [==============================] - 0s 2ms/step - loss: 0.1809 - accuracy: 0.9239\n",
            "Epoch 76/100\n",
            "219/219 [==============================] - 1s 2ms/step - loss: 0.1811 - accuracy: 0.9256\n",
            "Epoch 77/100\n",
            "219/219 [==============================] - 0s 2ms/step - loss: 0.1809 - accuracy: 0.9243\n",
            "Epoch 78/100\n",
            "219/219 [==============================] - 0s 2ms/step - loss: 0.1808 - accuracy: 0.9234\n",
            "Epoch 79/100\n",
            "219/219 [==============================] - 0s 2ms/step - loss: 0.1805 - accuracy: 0.9246\n",
            "Epoch 80/100\n",
            "219/219 [==============================] - 0s 2ms/step - loss: 0.1810 - accuracy: 0.9244\n",
            "Epoch 81/100\n",
            "219/219 [==============================] - 0s 2ms/step - loss: 0.1810 - accuracy: 0.9251\n",
            "Epoch 82/100\n",
            "219/219 [==============================] - 0s 2ms/step - loss: 0.1806 - accuracy: 0.9250\n",
            "Epoch 83/100\n",
            "219/219 [==============================] - 0s 2ms/step - loss: 0.1811 - accuracy: 0.9244\n",
            "Epoch 84/100\n",
            "219/219 [==============================] - 0s 2ms/step - loss: 0.1809 - accuracy: 0.9249\n",
            "Epoch 85/100\n",
            "219/219 [==============================] - 0s 2ms/step - loss: 0.1805 - accuracy: 0.9239\n",
            "Epoch 86/100\n",
            "219/219 [==============================] - 0s 1ms/step - loss: 0.1806 - accuracy: 0.9253\n",
            "Epoch 87/100\n",
            "219/219 [==============================] - 0s 1ms/step - loss: 0.1806 - accuracy: 0.9246\n",
            "Epoch 88/100\n",
            "219/219 [==============================] - 0s 1ms/step - loss: 0.1808 - accuracy: 0.9247\n",
            "Epoch 89/100\n",
            "219/219 [==============================] - 0s 1ms/step - loss: 0.1803 - accuracy: 0.9234\n",
            "Epoch 90/100\n",
            "219/219 [==============================] - 0s 1ms/step - loss: 0.1806 - accuracy: 0.9253\n",
            "Epoch 91/100\n",
            "219/219 [==============================] - 0s 2ms/step - loss: 0.1808 - accuracy: 0.9241\n",
            "Epoch 92/100\n",
            "219/219 [==============================] - 0s 1ms/step - loss: 0.1801 - accuracy: 0.9261\n",
            "Epoch 93/100\n",
            "219/219 [==============================] - 0s 1ms/step - loss: 0.1806 - accuracy: 0.9236\n",
            "Epoch 94/100\n",
            "219/219 [==============================] - 0s 2ms/step - loss: 0.1806 - accuracy: 0.9247\n",
            "Epoch 95/100\n",
            "219/219 [==============================] - 0s 2ms/step - loss: 0.1806 - accuracy: 0.9243\n",
            "Epoch 96/100\n",
            "219/219 [==============================] - 0s 1ms/step - loss: 0.1804 - accuracy: 0.9250\n",
            "Epoch 97/100\n",
            "219/219 [==============================] - 0s 1ms/step - loss: 0.1799 - accuracy: 0.9253\n",
            "Epoch 98/100\n",
            "219/219 [==============================] - 0s 1ms/step - loss: 0.1808 - accuracy: 0.9249\n",
            "Epoch 99/100\n",
            "219/219 [==============================] - 0s 1ms/step - loss: 0.1807 - accuracy: 0.9247\n",
            "Epoch 100/100\n",
            "219/219 [==============================] - 0s 1ms/step - loss: 0.1804 - accuracy: 0.9267\n"
          ]
        },
        {
          "output_type": "execute_result",
          "data": {
            "text/plain": [
              "<keras.src.callbacks.History at 0x787a7a00e8f0>"
            ]
          },
          "metadata": {},
          "execution_count": 39
        }
      ]
    },
    {
      "cell_type": "code",
      "source": [
        "model.evaluate(X_test, Y_test)\n",
        "# elemen pertama adalah loss dan elemen kedua adalah akurasi"
      ],
      "metadata": {
        "colab": {
          "base_uri": "https://localhost:8080/"
        },
        "id": "q74eurZ7uhOV",
        "outputId": "dd60dec5-881c-4cf4-a48b-1752dd8ba482"
      },
      "execution_count": 40,
      "outputs": [
        {
          "output_type": "stream",
          "name": "stdout",
          "text": [
            "94/94 [==============================] - 0s 1ms/step - loss: 0.1689 - accuracy: 0.9360\n"
          ]
        },
        {
          "output_type": "execute_result",
          "data": {
            "text/plain": [
              "[0.1689123809337616, 0.9359999895095825]"
            ]
          },
          "metadata": {},
          "execution_count": 40
        }
      ]
    }
  ]
}